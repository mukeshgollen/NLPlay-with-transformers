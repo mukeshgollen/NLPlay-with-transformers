{
  "nbformat": 4,
  "nbformat_minor": 0,
  "metadata": {
    "colab": {
      "name": "Text Generation using GPT-2.ipynb",
      "provenance": [],
      "collapsed_sections": [],
      "mount_file_id": "1Qx5ir90hv8pJUSsz0W_abFmzdrpgF270",
      "authorship_tag": "ABX9TyMdNbIfFHP1thz0UnJCKkL/",
      "include_colab_link": true
    },
    "kernelspec": {
      "name": "python3",
      "display_name": "Python 3"
    },
    "language_info": {
      "name": "python"
    },
    "widgets": {
      "application/vnd.jupyter.widget-state+json": {
        "7d7071579601455ebf2d2aec7ee77fe5": {
          "model_module": "@jupyter-widgets/controls",
          "model_name": "HBoxModel",
          "state": {
            "_view_name": "HBoxView",
            "_dom_classes": [],
            "_model_name": "HBoxModel",
            "_view_module": "@jupyter-widgets/controls",
            "_model_module_version": "1.5.0",
            "_view_count": null,
            "_view_module_version": "1.5.0",
            "box_style": "",
            "layout": "IPY_MODEL_917306f20b9b435ead77d02853486df0",
            "_model_module": "@jupyter-widgets/controls",
            "children": [
              "IPY_MODEL_4b4ef81b20a64410b512e39a285ec488",
              "IPY_MODEL_703a1e0086194d2996317384345efa16"
            ]
          }
        },
        "917306f20b9b435ead77d02853486df0": {
          "model_module": "@jupyter-widgets/base",
          "model_name": "LayoutModel",
          "state": {
            "_view_name": "LayoutView",
            "grid_template_rows": null,
            "right": null,
            "justify_content": null,
            "_view_module": "@jupyter-widgets/base",
            "overflow": null,
            "_model_module_version": "1.2.0",
            "_view_count": null,
            "flex_flow": null,
            "width": null,
            "min_width": null,
            "border": null,
            "align_items": null,
            "bottom": null,
            "_model_module": "@jupyter-widgets/base",
            "top": null,
            "grid_column": null,
            "overflow_y": null,
            "overflow_x": null,
            "grid_auto_flow": null,
            "grid_area": null,
            "grid_template_columns": null,
            "flex": null,
            "_model_name": "LayoutModel",
            "justify_items": null,
            "grid_row": null,
            "max_height": null,
            "align_content": null,
            "visibility": null,
            "align_self": null,
            "height": null,
            "min_height": null,
            "padding": null,
            "grid_auto_rows": null,
            "grid_gap": null,
            "max_width": null,
            "order": null,
            "_view_module_version": "1.2.0",
            "grid_template_areas": null,
            "object_position": null,
            "object_fit": null,
            "grid_auto_columns": null,
            "margin": null,
            "display": null,
            "left": null
          }
        },
        "4b4ef81b20a64410b512e39a285ec488": {
          "model_module": "@jupyter-widgets/controls",
          "model_name": "FloatProgressModel",
          "state": {
            "_view_name": "ProgressView",
            "style": "IPY_MODEL_4898f00ceff242f8a0b5f34a2a3d44b3",
            "_dom_classes": [],
            "description": "Downloading: 100%",
            "_model_name": "FloatProgressModel",
            "bar_style": "success",
            "max": 1042301,
            "_view_module": "@jupyter-widgets/controls",
            "_model_module_version": "1.5.0",
            "value": 1042301,
            "_view_count": null,
            "_view_module_version": "1.5.0",
            "orientation": "horizontal",
            "min": 0,
            "description_tooltip": null,
            "_model_module": "@jupyter-widgets/controls",
            "layout": "IPY_MODEL_30226a114cd946c0b6c349c931878f12"
          }
        },
        "703a1e0086194d2996317384345efa16": {
          "model_module": "@jupyter-widgets/controls",
          "model_name": "HTMLModel",
          "state": {
            "_view_name": "HTMLView",
            "style": "IPY_MODEL_a3fd44f8c88d4cf1983c8fa8b87b81d0",
            "_dom_classes": [],
            "description": "",
            "_model_name": "HTMLModel",
            "placeholder": "​",
            "_view_module": "@jupyter-widgets/controls",
            "_model_module_version": "1.5.0",
            "value": " 1.04M/1.04M [00:00&lt;00:00, 3.70MB/s]",
            "_view_count": null,
            "_view_module_version": "1.5.0",
            "description_tooltip": null,
            "_model_module": "@jupyter-widgets/controls",
            "layout": "IPY_MODEL_09589b5eb9e74933bd0874d762f53086"
          }
        },
        "4898f00ceff242f8a0b5f34a2a3d44b3": {
          "model_module": "@jupyter-widgets/controls",
          "model_name": "ProgressStyleModel",
          "state": {
            "_view_name": "StyleView",
            "_model_name": "ProgressStyleModel",
            "description_width": "initial",
            "_view_module": "@jupyter-widgets/base",
            "_model_module_version": "1.5.0",
            "_view_count": null,
            "_view_module_version": "1.2.0",
            "bar_color": null,
            "_model_module": "@jupyter-widgets/controls"
          }
        },
        "30226a114cd946c0b6c349c931878f12": {
          "model_module": "@jupyter-widgets/base",
          "model_name": "LayoutModel",
          "state": {
            "_view_name": "LayoutView",
            "grid_template_rows": null,
            "right": null,
            "justify_content": null,
            "_view_module": "@jupyter-widgets/base",
            "overflow": null,
            "_model_module_version": "1.2.0",
            "_view_count": null,
            "flex_flow": null,
            "width": null,
            "min_width": null,
            "border": null,
            "align_items": null,
            "bottom": null,
            "_model_module": "@jupyter-widgets/base",
            "top": null,
            "grid_column": null,
            "overflow_y": null,
            "overflow_x": null,
            "grid_auto_flow": null,
            "grid_area": null,
            "grid_template_columns": null,
            "flex": null,
            "_model_name": "LayoutModel",
            "justify_items": null,
            "grid_row": null,
            "max_height": null,
            "align_content": null,
            "visibility": null,
            "align_self": null,
            "height": null,
            "min_height": null,
            "padding": null,
            "grid_auto_rows": null,
            "grid_gap": null,
            "max_width": null,
            "order": null,
            "_view_module_version": "1.2.0",
            "grid_template_areas": null,
            "object_position": null,
            "object_fit": null,
            "grid_auto_columns": null,
            "margin": null,
            "display": null,
            "left": null
          }
        },
        "a3fd44f8c88d4cf1983c8fa8b87b81d0": {
          "model_module": "@jupyter-widgets/controls",
          "model_name": "DescriptionStyleModel",
          "state": {
            "_view_name": "StyleView",
            "_model_name": "DescriptionStyleModel",
            "description_width": "",
            "_view_module": "@jupyter-widgets/base",
            "_model_module_version": "1.5.0",
            "_view_count": null,
            "_view_module_version": "1.2.0",
            "_model_module": "@jupyter-widgets/controls"
          }
        },
        "09589b5eb9e74933bd0874d762f53086": {
          "model_module": "@jupyter-widgets/base",
          "model_name": "LayoutModel",
          "state": {
            "_view_name": "LayoutView",
            "grid_template_rows": null,
            "right": null,
            "justify_content": null,
            "_view_module": "@jupyter-widgets/base",
            "overflow": null,
            "_model_module_version": "1.2.0",
            "_view_count": null,
            "flex_flow": null,
            "width": null,
            "min_width": null,
            "border": null,
            "align_items": null,
            "bottom": null,
            "_model_module": "@jupyter-widgets/base",
            "top": null,
            "grid_column": null,
            "overflow_y": null,
            "overflow_x": null,
            "grid_auto_flow": null,
            "grid_area": null,
            "grid_template_columns": null,
            "flex": null,
            "_model_name": "LayoutModel",
            "justify_items": null,
            "grid_row": null,
            "max_height": null,
            "align_content": null,
            "visibility": null,
            "align_self": null,
            "height": null,
            "min_height": null,
            "padding": null,
            "grid_auto_rows": null,
            "grid_gap": null,
            "max_width": null,
            "order": null,
            "_view_module_version": "1.2.0",
            "grid_template_areas": null,
            "object_position": null,
            "object_fit": null,
            "grid_auto_columns": null,
            "margin": null,
            "display": null,
            "left": null
          }
        },
        "44885dfbd90d4285a1faf2d6763d34c2": {
          "model_module": "@jupyter-widgets/controls",
          "model_name": "HBoxModel",
          "state": {
            "_view_name": "HBoxView",
            "_dom_classes": [],
            "_model_name": "HBoxModel",
            "_view_module": "@jupyter-widgets/controls",
            "_model_module_version": "1.5.0",
            "_view_count": null,
            "_view_module_version": "1.5.0",
            "box_style": "",
            "layout": "IPY_MODEL_951f4b6d9f93489087ee5828f36b42cf",
            "_model_module": "@jupyter-widgets/controls",
            "children": [
              "IPY_MODEL_ef68ee9fd96046c9996c4fafcdcf9016",
              "IPY_MODEL_c8a401fb8e9c49aa9e9597e3cea52e3f"
            ]
          }
        },
        "951f4b6d9f93489087ee5828f36b42cf": {
          "model_module": "@jupyter-widgets/base",
          "model_name": "LayoutModel",
          "state": {
            "_view_name": "LayoutView",
            "grid_template_rows": null,
            "right": null,
            "justify_content": null,
            "_view_module": "@jupyter-widgets/base",
            "overflow": null,
            "_model_module_version": "1.2.0",
            "_view_count": null,
            "flex_flow": null,
            "width": null,
            "min_width": null,
            "border": null,
            "align_items": null,
            "bottom": null,
            "_model_module": "@jupyter-widgets/base",
            "top": null,
            "grid_column": null,
            "overflow_y": null,
            "overflow_x": null,
            "grid_auto_flow": null,
            "grid_area": null,
            "grid_template_columns": null,
            "flex": null,
            "_model_name": "LayoutModel",
            "justify_items": null,
            "grid_row": null,
            "max_height": null,
            "align_content": null,
            "visibility": null,
            "align_self": null,
            "height": null,
            "min_height": null,
            "padding": null,
            "grid_auto_rows": null,
            "grid_gap": null,
            "max_width": null,
            "order": null,
            "_view_module_version": "1.2.0",
            "grid_template_areas": null,
            "object_position": null,
            "object_fit": null,
            "grid_auto_columns": null,
            "margin": null,
            "display": null,
            "left": null
          }
        },
        "ef68ee9fd96046c9996c4fafcdcf9016": {
          "model_module": "@jupyter-widgets/controls",
          "model_name": "FloatProgressModel",
          "state": {
            "_view_name": "ProgressView",
            "style": "IPY_MODEL_a597cf9fc3294d9baa9ef751046eb06b",
            "_dom_classes": [],
            "description": "Downloading: 100%",
            "_model_name": "FloatProgressModel",
            "bar_style": "success",
            "max": 456318,
            "_view_module": "@jupyter-widgets/controls",
            "_model_module_version": "1.5.0",
            "value": 456318,
            "_view_count": null,
            "_view_module_version": "1.5.0",
            "orientation": "horizontal",
            "min": 0,
            "description_tooltip": null,
            "_model_module": "@jupyter-widgets/controls",
            "layout": "IPY_MODEL_e4dc1eace2ec4ef29318e2efa9c8ee72"
          }
        },
        "c8a401fb8e9c49aa9e9597e3cea52e3f": {
          "model_module": "@jupyter-widgets/controls",
          "model_name": "HTMLModel",
          "state": {
            "_view_name": "HTMLView",
            "style": "IPY_MODEL_8f9ef05595e94f9db1846d7274967231",
            "_dom_classes": [],
            "description": "",
            "_model_name": "HTMLModel",
            "placeholder": "​",
            "_view_module": "@jupyter-widgets/controls",
            "_model_module_version": "1.5.0",
            "value": " 456k/456k [00:01&lt;00:00, 238kB/s]",
            "_view_count": null,
            "_view_module_version": "1.5.0",
            "description_tooltip": null,
            "_model_module": "@jupyter-widgets/controls",
            "layout": "IPY_MODEL_8caf4a0e5cd34feea11b85af95fdf349"
          }
        },
        "a597cf9fc3294d9baa9ef751046eb06b": {
          "model_module": "@jupyter-widgets/controls",
          "model_name": "ProgressStyleModel",
          "state": {
            "_view_name": "StyleView",
            "_model_name": "ProgressStyleModel",
            "description_width": "initial",
            "_view_module": "@jupyter-widgets/base",
            "_model_module_version": "1.5.0",
            "_view_count": null,
            "_view_module_version": "1.2.0",
            "bar_color": null,
            "_model_module": "@jupyter-widgets/controls"
          }
        },
        "e4dc1eace2ec4ef29318e2efa9c8ee72": {
          "model_module": "@jupyter-widgets/base",
          "model_name": "LayoutModel",
          "state": {
            "_view_name": "LayoutView",
            "grid_template_rows": null,
            "right": null,
            "justify_content": null,
            "_view_module": "@jupyter-widgets/base",
            "overflow": null,
            "_model_module_version": "1.2.0",
            "_view_count": null,
            "flex_flow": null,
            "width": null,
            "min_width": null,
            "border": null,
            "align_items": null,
            "bottom": null,
            "_model_module": "@jupyter-widgets/base",
            "top": null,
            "grid_column": null,
            "overflow_y": null,
            "overflow_x": null,
            "grid_auto_flow": null,
            "grid_area": null,
            "grid_template_columns": null,
            "flex": null,
            "_model_name": "LayoutModel",
            "justify_items": null,
            "grid_row": null,
            "max_height": null,
            "align_content": null,
            "visibility": null,
            "align_self": null,
            "height": null,
            "min_height": null,
            "padding": null,
            "grid_auto_rows": null,
            "grid_gap": null,
            "max_width": null,
            "order": null,
            "_view_module_version": "1.2.0",
            "grid_template_areas": null,
            "object_position": null,
            "object_fit": null,
            "grid_auto_columns": null,
            "margin": null,
            "display": null,
            "left": null
          }
        },
        "8f9ef05595e94f9db1846d7274967231": {
          "model_module": "@jupyter-widgets/controls",
          "model_name": "DescriptionStyleModel",
          "state": {
            "_view_name": "StyleView",
            "_model_name": "DescriptionStyleModel",
            "description_width": "",
            "_view_module": "@jupyter-widgets/base",
            "_model_module_version": "1.5.0",
            "_view_count": null,
            "_view_module_version": "1.2.0",
            "_model_module": "@jupyter-widgets/controls"
          }
        },
        "8caf4a0e5cd34feea11b85af95fdf349": {
          "model_module": "@jupyter-widgets/base",
          "model_name": "LayoutModel",
          "state": {
            "_view_name": "LayoutView",
            "grid_template_rows": null,
            "right": null,
            "justify_content": null,
            "_view_module": "@jupyter-widgets/base",
            "overflow": null,
            "_model_module_version": "1.2.0",
            "_view_count": null,
            "flex_flow": null,
            "width": null,
            "min_width": null,
            "border": null,
            "align_items": null,
            "bottom": null,
            "_model_module": "@jupyter-widgets/base",
            "top": null,
            "grid_column": null,
            "overflow_y": null,
            "overflow_x": null,
            "grid_auto_flow": null,
            "grid_area": null,
            "grid_template_columns": null,
            "flex": null,
            "_model_name": "LayoutModel",
            "justify_items": null,
            "grid_row": null,
            "max_height": null,
            "align_content": null,
            "visibility": null,
            "align_self": null,
            "height": null,
            "min_height": null,
            "padding": null,
            "grid_auto_rows": null,
            "grid_gap": null,
            "max_width": null,
            "order": null,
            "_view_module_version": "1.2.0",
            "grid_template_areas": null,
            "object_position": null,
            "object_fit": null,
            "grid_auto_columns": null,
            "margin": null,
            "display": null,
            "left": null
          }
        },
        "128546f8b2aa42e0a3bd1d0e3e3891ab": {
          "model_module": "@jupyter-widgets/controls",
          "model_name": "HBoxModel",
          "state": {
            "_view_name": "HBoxView",
            "_dom_classes": [],
            "_model_name": "HBoxModel",
            "_view_module": "@jupyter-widgets/controls",
            "_model_module_version": "1.5.0",
            "_view_count": null,
            "_view_module_version": "1.5.0",
            "box_style": "",
            "layout": "IPY_MODEL_ec962424298d44dda8dcb882abd7bbf5",
            "_model_module": "@jupyter-widgets/controls",
            "children": [
              "IPY_MODEL_dce123eb095648758f330f6b67be5faa",
              "IPY_MODEL_2b3b1212436243df9a3b0bb2689bc1b3"
            ]
          }
        },
        "ec962424298d44dda8dcb882abd7bbf5": {
          "model_module": "@jupyter-widgets/base",
          "model_name": "LayoutModel",
          "state": {
            "_view_name": "LayoutView",
            "grid_template_rows": null,
            "right": null,
            "justify_content": null,
            "_view_module": "@jupyter-widgets/base",
            "overflow": null,
            "_model_module_version": "1.2.0",
            "_view_count": null,
            "flex_flow": null,
            "width": null,
            "min_width": null,
            "border": null,
            "align_items": null,
            "bottom": null,
            "_model_module": "@jupyter-widgets/base",
            "top": null,
            "grid_column": null,
            "overflow_y": null,
            "overflow_x": null,
            "grid_auto_flow": null,
            "grid_area": null,
            "grid_template_columns": null,
            "flex": null,
            "_model_name": "LayoutModel",
            "justify_items": null,
            "grid_row": null,
            "max_height": null,
            "align_content": null,
            "visibility": null,
            "align_self": null,
            "height": null,
            "min_height": null,
            "padding": null,
            "grid_auto_rows": null,
            "grid_gap": null,
            "max_width": null,
            "order": null,
            "_view_module_version": "1.2.0",
            "grid_template_areas": null,
            "object_position": null,
            "object_fit": null,
            "grid_auto_columns": null,
            "margin": null,
            "display": null,
            "left": null
          }
        },
        "dce123eb095648758f330f6b67be5faa": {
          "model_module": "@jupyter-widgets/controls",
          "model_name": "FloatProgressModel",
          "state": {
            "_view_name": "ProgressView",
            "style": "IPY_MODEL_473f6c7b3d3b45e88adf6699ea5a2063",
            "_dom_classes": [],
            "description": "Downloading: 100%",
            "_model_name": "FloatProgressModel",
            "bar_style": "success",
            "max": 1355256,
            "_view_module": "@jupyter-widgets/controls",
            "_model_module_version": "1.5.0",
            "value": 1355256,
            "_view_count": null,
            "_view_module_version": "1.5.0",
            "orientation": "horizontal",
            "min": 0,
            "description_tooltip": null,
            "_model_module": "@jupyter-widgets/controls",
            "layout": "IPY_MODEL_289cbf98d50d4639b1d8dcbbea2d025f"
          }
        },
        "2b3b1212436243df9a3b0bb2689bc1b3": {
          "model_module": "@jupyter-widgets/controls",
          "model_name": "HTMLModel",
          "state": {
            "_view_name": "HTMLView",
            "style": "IPY_MODEL_abba0c08d52e4b00b0e4b893cc4083de",
            "_dom_classes": [],
            "description": "",
            "_model_name": "HTMLModel",
            "placeholder": "​",
            "_view_module": "@jupyter-widgets/controls",
            "_model_module_version": "1.5.0",
            "value": " 1.36M/1.36M [00:00&lt;00:00, 4.11MB/s]",
            "_view_count": null,
            "_view_module_version": "1.5.0",
            "description_tooltip": null,
            "_model_module": "@jupyter-widgets/controls",
            "layout": "IPY_MODEL_7254c43fa7df48459b9ba7b02d27687e"
          }
        },
        "473f6c7b3d3b45e88adf6699ea5a2063": {
          "model_module": "@jupyter-widgets/controls",
          "model_name": "ProgressStyleModel",
          "state": {
            "_view_name": "StyleView",
            "_model_name": "ProgressStyleModel",
            "description_width": "initial",
            "_view_module": "@jupyter-widgets/base",
            "_model_module_version": "1.5.0",
            "_view_count": null,
            "_view_module_version": "1.2.0",
            "bar_color": null,
            "_model_module": "@jupyter-widgets/controls"
          }
        },
        "289cbf98d50d4639b1d8dcbbea2d025f": {
          "model_module": "@jupyter-widgets/base",
          "model_name": "LayoutModel",
          "state": {
            "_view_name": "LayoutView",
            "grid_template_rows": null,
            "right": null,
            "justify_content": null,
            "_view_module": "@jupyter-widgets/base",
            "overflow": null,
            "_model_module_version": "1.2.0",
            "_view_count": null,
            "flex_flow": null,
            "width": null,
            "min_width": null,
            "border": null,
            "align_items": null,
            "bottom": null,
            "_model_module": "@jupyter-widgets/base",
            "top": null,
            "grid_column": null,
            "overflow_y": null,
            "overflow_x": null,
            "grid_auto_flow": null,
            "grid_area": null,
            "grid_template_columns": null,
            "flex": null,
            "_model_name": "LayoutModel",
            "justify_items": null,
            "grid_row": null,
            "max_height": null,
            "align_content": null,
            "visibility": null,
            "align_self": null,
            "height": null,
            "min_height": null,
            "padding": null,
            "grid_auto_rows": null,
            "grid_gap": null,
            "max_width": null,
            "order": null,
            "_view_module_version": "1.2.0",
            "grid_template_areas": null,
            "object_position": null,
            "object_fit": null,
            "grid_auto_columns": null,
            "margin": null,
            "display": null,
            "left": null
          }
        },
        "abba0c08d52e4b00b0e4b893cc4083de": {
          "model_module": "@jupyter-widgets/controls",
          "model_name": "DescriptionStyleModel",
          "state": {
            "_view_name": "StyleView",
            "_model_name": "DescriptionStyleModel",
            "description_width": "",
            "_view_module": "@jupyter-widgets/base",
            "_model_module_version": "1.5.0",
            "_view_count": null,
            "_view_module_version": "1.2.0",
            "_model_module": "@jupyter-widgets/controls"
          }
        },
        "7254c43fa7df48459b9ba7b02d27687e": {
          "model_module": "@jupyter-widgets/base",
          "model_name": "LayoutModel",
          "state": {
            "_view_name": "LayoutView",
            "grid_template_rows": null,
            "right": null,
            "justify_content": null,
            "_view_module": "@jupyter-widgets/base",
            "overflow": null,
            "_model_module_version": "1.2.0",
            "_view_count": null,
            "flex_flow": null,
            "width": null,
            "min_width": null,
            "border": null,
            "align_items": null,
            "bottom": null,
            "_model_module": "@jupyter-widgets/base",
            "top": null,
            "grid_column": null,
            "overflow_y": null,
            "overflow_x": null,
            "grid_auto_flow": null,
            "grid_area": null,
            "grid_template_columns": null,
            "flex": null,
            "_model_name": "LayoutModel",
            "justify_items": null,
            "grid_row": null,
            "max_height": null,
            "align_content": null,
            "visibility": null,
            "align_self": null,
            "height": null,
            "min_height": null,
            "padding": null,
            "grid_auto_rows": null,
            "grid_gap": null,
            "max_width": null,
            "order": null,
            "_view_module_version": "1.2.0",
            "grid_template_areas": null,
            "object_position": null,
            "object_fit": null,
            "grid_auto_columns": null,
            "margin": null,
            "display": null,
            "left": null
          }
        },
        "5dc2006d640240429e058a0e916e1850": {
          "model_module": "@jupyter-widgets/controls",
          "model_name": "HBoxModel",
          "state": {
            "_view_name": "HBoxView",
            "_dom_classes": [],
            "_model_name": "HBoxModel",
            "_view_module": "@jupyter-widgets/controls",
            "_model_module_version": "1.5.0",
            "_view_count": null,
            "_view_module_version": "1.5.0",
            "box_style": "",
            "layout": "IPY_MODEL_c814d508314245279d53d52e16e3a882",
            "_model_module": "@jupyter-widgets/controls",
            "children": [
              "IPY_MODEL_986f5c193fe74e9e9fa739a6a282c203",
              "IPY_MODEL_c74233ddac4a4c6a810df2a700d0e088"
            ]
          }
        },
        "c814d508314245279d53d52e16e3a882": {
          "model_module": "@jupyter-widgets/base",
          "model_name": "LayoutModel",
          "state": {
            "_view_name": "LayoutView",
            "grid_template_rows": null,
            "right": null,
            "justify_content": null,
            "_view_module": "@jupyter-widgets/base",
            "overflow": null,
            "_model_module_version": "1.2.0",
            "_view_count": null,
            "flex_flow": null,
            "width": null,
            "min_width": null,
            "border": null,
            "align_items": null,
            "bottom": null,
            "_model_module": "@jupyter-widgets/base",
            "top": null,
            "grid_column": null,
            "overflow_y": null,
            "overflow_x": null,
            "grid_auto_flow": null,
            "grid_area": null,
            "grid_template_columns": null,
            "flex": null,
            "_model_name": "LayoutModel",
            "justify_items": null,
            "grid_row": null,
            "max_height": null,
            "align_content": null,
            "visibility": null,
            "align_self": null,
            "height": null,
            "min_height": null,
            "padding": null,
            "grid_auto_rows": null,
            "grid_gap": null,
            "max_width": null,
            "order": null,
            "_view_module_version": "1.2.0",
            "grid_template_areas": null,
            "object_position": null,
            "object_fit": null,
            "grid_auto_columns": null,
            "margin": null,
            "display": null,
            "left": null
          }
        },
        "986f5c193fe74e9e9fa739a6a282c203": {
          "model_module": "@jupyter-widgets/controls",
          "model_name": "FloatProgressModel",
          "state": {
            "_view_name": "ProgressView",
            "style": "IPY_MODEL_6896308968c54891806c556eb20163b5",
            "_dom_classes": [],
            "description": "Downloading: 100%",
            "_model_name": "FloatProgressModel",
            "bar_style": "success",
            "max": 718,
            "_view_module": "@jupyter-widgets/controls",
            "_model_module_version": "1.5.0",
            "value": 718,
            "_view_count": null,
            "_view_module_version": "1.5.0",
            "orientation": "horizontal",
            "min": 0,
            "description_tooltip": null,
            "_model_module": "@jupyter-widgets/controls",
            "layout": "IPY_MODEL_6e4d79c5d62544ee83ad11c2ed842971"
          }
        },
        "c74233ddac4a4c6a810df2a700d0e088": {
          "model_module": "@jupyter-widgets/controls",
          "model_name": "HTMLModel",
          "state": {
            "_view_name": "HTMLView",
            "style": "IPY_MODEL_75a7264831bc40d9ad26e52b5988f2cb",
            "_dom_classes": [],
            "description": "",
            "_model_name": "HTMLModel",
            "placeholder": "​",
            "_view_module": "@jupyter-widgets/controls",
            "_model_module_version": "1.5.0",
            "value": " 718/718 [00:00&lt;00:00, 1.33kB/s]",
            "_view_count": null,
            "_view_module_version": "1.5.0",
            "description_tooltip": null,
            "_model_module": "@jupyter-widgets/controls",
            "layout": "IPY_MODEL_345be4997be74ed1a63e1427aeeb8a49"
          }
        },
        "6896308968c54891806c556eb20163b5": {
          "model_module": "@jupyter-widgets/controls",
          "model_name": "ProgressStyleModel",
          "state": {
            "_view_name": "StyleView",
            "_model_name": "ProgressStyleModel",
            "description_width": "initial",
            "_view_module": "@jupyter-widgets/base",
            "_model_module_version": "1.5.0",
            "_view_count": null,
            "_view_module_version": "1.2.0",
            "bar_color": null,
            "_model_module": "@jupyter-widgets/controls"
          }
        },
        "6e4d79c5d62544ee83ad11c2ed842971": {
          "model_module": "@jupyter-widgets/base",
          "model_name": "LayoutModel",
          "state": {
            "_view_name": "LayoutView",
            "grid_template_rows": null,
            "right": null,
            "justify_content": null,
            "_view_module": "@jupyter-widgets/base",
            "overflow": null,
            "_model_module_version": "1.2.0",
            "_view_count": null,
            "flex_flow": null,
            "width": null,
            "min_width": null,
            "border": null,
            "align_items": null,
            "bottom": null,
            "_model_module": "@jupyter-widgets/base",
            "top": null,
            "grid_column": null,
            "overflow_y": null,
            "overflow_x": null,
            "grid_auto_flow": null,
            "grid_area": null,
            "grid_template_columns": null,
            "flex": null,
            "_model_name": "LayoutModel",
            "justify_items": null,
            "grid_row": null,
            "max_height": null,
            "align_content": null,
            "visibility": null,
            "align_self": null,
            "height": null,
            "min_height": null,
            "padding": null,
            "grid_auto_rows": null,
            "grid_gap": null,
            "max_width": null,
            "order": null,
            "_view_module_version": "1.2.0",
            "grid_template_areas": null,
            "object_position": null,
            "object_fit": null,
            "grid_auto_columns": null,
            "margin": null,
            "display": null,
            "left": null
          }
        },
        "75a7264831bc40d9ad26e52b5988f2cb": {
          "model_module": "@jupyter-widgets/controls",
          "model_name": "DescriptionStyleModel",
          "state": {
            "_view_name": "StyleView",
            "_model_name": "DescriptionStyleModel",
            "description_width": "",
            "_view_module": "@jupyter-widgets/base",
            "_model_module_version": "1.5.0",
            "_view_count": null,
            "_view_module_version": "1.2.0",
            "_model_module": "@jupyter-widgets/controls"
          }
        },
        "345be4997be74ed1a63e1427aeeb8a49": {
          "model_module": "@jupyter-widgets/base",
          "model_name": "LayoutModel",
          "state": {
            "_view_name": "LayoutView",
            "grid_template_rows": null,
            "right": null,
            "justify_content": null,
            "_view_module": "@jupyter-widgets/base",
            "overflow": null,
            "_model_module_version": "1.2.0",
            "_view_count": null,
            "flex_flow": null,
            "width": null,
            "min_width": null,
            "border": null,
            "align_items": null,
            "bottom": null,
            "_model_module": "@jupyter-widgets/base",
            "top": null,
            "grid_column": null,
            "overflow_y": null,
            "overflow_x": null,
            "grid_auto_flow": null,
            "grid_area": null,
            "grid_template_columns": null,
            "flex": null,
            "_model_name": "LayoutModel",
            "justify_items": null,
            "grid_row": null,
            "max_height": null,
            "align_content": null,
            "visibility": null,
            "align_self": null,
            "height": null,
            "min_height": null,
            "padding": null,
            "grid_auto_rows": null,
            "grid_gap": null,
            "max_width": null,
            "order": null,
            "_view_module_version": "1.2.0",
            "grid_template_areas": null,
            "object_position": null,
            "object_fit": null,
            "grid_auto_columns": null,
            "margin": null,
            "display": null,
            "left": null
          }
        },
        "b68bc534a1b44e47997211e6b1332fd3": {
          "model_module": "@jupyter-widgets/controls",
          "model_name": "HBoxModel",
          "state": {
            "_view_name": "HBoxView",
            "_dom_classes": [],
            "_model_name": "HBoxModel",
            "_view_module": "@jupyter-widgets/controls",
            "_model_module_version": "1.5.0",
            "_view_count": null,
            "_view_module_version": "1.5.0",
            "box_style": "",
            "layout": "IPY_MODEL_0683ac2a659c4a04986564bffe0510a8",
            "_model_module": "@jupyter-widgets/controls",
            "children": [
              "IPY_MODEL_535469fae82d4b1ba0aa7ec97e063957",
              "IPY_MODEL_862f6537977f41a89ae878839040999b"
            ]
          }
        },
        "0683ac2a659c4a04986564bffe0510a8": {
          "model_module": "@jupyter-widgets/base",
          "model_name": "LayoutModel",
          "state": {
            "_view_name": "LayoutView",
            "grid_template_rows": null,
            "right": null,
            "justify_content": null,
            "_view_module": "@jupyter-widgets/base",
            "overflow": null,
            "_model_module_version": "1.2.0",
            "_view_count": null,
            "flex_flow": null,
            "width": null,
            "min_width": null,
            "border": null,
            "align_items": null,
            "bottom": null,
            "_model_module": "@jupyter-widgets/base",
            "top": null,
            "grid_column": null,
            "overflow_y": null,
            "overflow_x": null,
            "grid_auto_flow": null,
            "grid_area": null,
            "grid_template_columns": null,
            "flex": null,
            "_model_name": "LayoutModel",
            "justify_items": null,
            "grid_row": null,
            "max_height": null,
            "align_content": null,
            "visibility": null,
            "align_self": null,
            "height": null,
            "min_height": null,
            "padding": null,
            "grid_auto_rows": null,
            "grid_gap": null,
            "max_width": null,
            "order": null,
            "_view_module_version": "1.2.0",
            "grid_template_areas": null,
            "object_position": null,
            "object_fit": null,
            "grid_auto_columns": null,
            "margin": null,
            "display": null,
            "left": null
          }
        },
        "535469fae82d4b1ba0aa7ec97e063957": {
          "model_module": "@jupyter-widgets/controls",
          "model_name": "FloatProgressModel",
          "state": {
            "_view_name": "ProgressView",
            "style": "IPY_MODEL_a1d7159424f34e32b3984fcbd4eb0f23",
            "_dom_classes": [],
            "description": "Downloading: 100%",
            "_model_name": "FloatProgressModel",
            "bar_style": "success",
            "max": 1520013706,
            "_view_module": "@jupyter-widgets/controls",
            "_model_module_version": "1.5.0",
            "value": 1520013706,
            "_view_count": null,
            "_view_module_version": "1.5.0",
            "orientation": "horizontal",
            "min": 0,
            "description_tooltip": null,
            "_model_module": "@jupyter-widgets/controls",
            "layout": "IPY_MODEL_3464b817fb85486d899ef16639c971d2"
          }
        },
        "862f6537977f41a89ae878839040999b": {
          "model_module": "@jupyter-widgets/controls",
          "model_name": "HTMLModel",
          "state": {
            "_view_name": "HTMLView",
            "style": "IPY_MODEL_f3b2f6abd4e8407fb0c8a8d57461ddff",
            "_dom_classes": [],
            "description": "",
            "_model_name": "HTMLModel",
            "placeholder": "​",
            "_view_module": "@jupyter-widgets/controls",
            "_model_module_version": "1.5.0",
            "value": " 1.52G/1.52G [00:36&lt;00:00, 41.2MB/s]",
            "_view_count": null,
            "_view_module_version": "1.5.0",
            "description_tooltip": null,
            "_model_module": "@jupyter-widgets/controls",
            "layout": "IPY_MODEL_5d7cadaf40b84af986232250b4090bea"
          }
        },
        "a1d7159424f34e32b3984fcbd4eb0f23": {
          "model_module": "@jupyter-widgets/controls",
          "model_name": "ProgressStyleModel",
          "state": {
            "_view_name": "StyleView",
            "_model_name": "ProgressStyleModel",
            "description_width": "initial",
            "_view_module": "@jupyter-widgets/base",
            "_model_module_version": "1.5.0",
            "_view_count": null,
            "_view_module_version": "1.2.0",
            "bar_color": null,
            "_model_module": "@jupyter-widgets/controls"
          }
        },
        "3464b817fb85486d899ef16639c971d2": {
          "model_module": "@jupyter-widgets/base",
          "model_name": "LayoutModel",
          "state": {
            "_view_name": "LayoutView",
            "grid_template_rows": null,
            "right": null,
            "justify_content": null,
            "_view_module": "@jupyter-widgets/base",
            "overflow": null,
            "_model_module_version": "1.2.0",
            "_view_count": null,
            "flex_flow": null,
            "width": null,
            "min_width": null,
            "border": null,
            "align_items": null,
            "bottom": null,
            "_model_module": "@jupyter-widgets/base",
            "top": null,
            "grid_column": null,
            "overflow_y": null,
            "overflow_x": null,
            "grid_auto_flow": null,
            "grid_area": null,
            "grid_template_columns": null,
            "flex": null,
            "_model_name": "LayoutModel",
            "justify_items": null,
            "grid_row": null,
            "max_height": null,
            "align_content": null,
            "visibility": null,
            "align_self": null,
            "height": null,
            "min_height": null,
            "padding": null,
            "grid_auto_rows": null,
            "grid_gap": null,
            "max_width": null,
            "order": null,
            "_view_module_version": "1.2.0",
            "grid_template_areas": null,
            "object_position": null,
            "object_fit": null,
            "grid_auto_columns": null,
            "margin": null,
            "display": null,
            "left": null
          }
        },
        "f3b2f6abd4e8407fb0c8a8d57461ddff": {
          "model_module": "@jupyter-widgets/controls",
          "model_name": "DescriptionStyleModel",
          "state": {
            "_view_name": "StyleView",
            "_model_name": "DescriptionStyleModel",
            "description_width": "",
            "_view_module": "@jupyter-widgets/base",
            "_model_module_version": "1.5.0",
            "_view_count": null,
            "_view_module_version": "1.2.0",
            "_model_module": "@jupyter-widgets/controls"
          }
        },
        "5d7cadaf40b84af986232250b4090bea": {
          "model_module": "@jupyter-widgets/base",
          "model_name": "LayoutModel",
          "state": {
            "_view_name": "LayoutView",
            "grid_template_rows": null,
            "right": null,
            "justify_content": null,
            "_view_module": "@jupyter-widgets/base",
            "overflow": null,
            "_model_module_version": "1.2.0",
            "_view_count": null,
            "flex_flow": null,
            "width": null,
            "min_width": null,
            "border": null,
            "align_items": null,
            "bottom": null,
            "_model_module": "@jupyter-widgets/base",
            "top": null,
            "grid_column": null,
            "overflow_y": null,
            "overflow_x": null,
            "grid_auto_flow": null,
            "grid_area": null,
            "grid_template_columns": null,
            "flex": null,
            "_model_name": "LayoutModel",
            "justify_items": null,
            "grid_row": null,
            "max_height": null,
            "align_content": null,
            "visibility": null,
            "align_self": null,
            "height": null,
            "min_height": null,
            "padding": null,
            "grid_auto_rows": null,
            "grid_gap": null,
            "max_width": null,
            "order": null,
            "_view_module_version": "1.2.0",
            "grid_template_areas": null,
            "object_position": null,
            "object_fit": null,
            "grid_auto_columns": null,
            "margin": null,
            "display": null,
            "left": null
          }
        }
      }
    },
    "accelerator": "GPU"
  },
  "cells": [
    {
      "cell_type": "markdown",
      "metadata": {
        "id": "view-in-github",
        "colab_type": "text"
      },
      "source": [
        "<a href=\"https://colab.research.google.com/github/mukeshgollen/NLPlay-with-transformers/blob/main/Phase3/Text_Generation_using_GPT_2.ipynb\" target=\"_parent\"><img src=\"https://colab.research.google.com/assets/colab-badge.svg\" alt=\"Open In Colab\"/></a>"
      ]
    },
    {
      "cell_type": "markdown",
      "metadata": {
        "id": "Ip8zgKSPXmof"
      },
      "source": [
        "### TEXT GENERATION USING GPT-2"
      ]
    },
    {
      "cell_type": "code",
      "metadata": {
        "id": "Ot8vGK6NeH0G",
        "colab": {
          "base_uri": "https://localhost:8080/"
        },
        "outputId": "53aad25c-c355-43ec-cfde-b9610fed5772"
      },
      "source": [
        "!pip install transformers "
      ],
      "execution_count": null,
      "outputs": [
        {
          "output_type": "stream",
          "text": [
            "Collecting transformers\n",
            "\u001b[?25l  Downloading https://files.pythonhosted.org/packages/fd/1a/41c644c963249fd7f3836d926afa1e3f1cc234a1c40d80c5f03ad8f6f1b2/transformers-4.8.2-py3-none-any.whl (2.5MB)\n",
            "\u001b[K     |████████████████████████████████| 2.5MB 7.3MB/s \n",
            "\u001b[?25hRequirement already satisfied: requests in /usr/local/lib/python3.7/dist-packages (from transformers) (2.23.0)\n",
            "Collecting sacremoses\n",
            "\u001b[?25l  Downloading https://files.pythonhosted.org/packages/75/ee/67241dc87f266093c533a2d4d3d69438e57d7a90abb216fa076e7d475d4a/sacremoses-0.0.45-py3-none-any.whl (895kB)\n",
            "\u001b[K     |████████████████████████████████| 901kB 43.5MB/s \n",
            "\u001b[?25hCollecting tokenizers<0.11,>=0.10.1\n",
            "\u001b[?25l  Downloading https://files.pythonhosted.org/packages/d4/e2/df3543e8ffdab68f5acc73f613de9c2b155ac47f162e725dcac87c521c11/tokenizers-0.10.3-cp37-cp37m-manylinux_2_5_x86_64.manylinux1_x86_64.manylinux_2_12_x86_64.manylinux2010_x86_64.whl (3.3MB)\n",
            "\u001b[K     |████████████████████████████████| 3.3MB 38.5MB/s \n",
            "\u001b[?25hRequirement already satisfied: filelock in /usr/local/lib/python3.7/dist-packages (from transformers) (3.0.12)\n",
            "Requirement already satisfied: tqdm>=4.27 in /usr/local/lib/python3.7/dist-packages (from transformers) (4.41.1)\n",
            "Requirement already satisfied: pyyaml in /usr/local/lib/python3.7/dist-packages (from transformers) (3.13)\n",
            "Requirement already satisfied: numpy>=1.17 in /usr/local/lib/python3.7/dist-packages (from transformers) (1.19.5)\n",
            "Requirement already satisfied: importlib-metadata; python_version < \"3.8\" in /usr/local/lib/python3.7/dist-packages (from transformers) (4.6.1)\n",
            "Requirement already satisfied: packaging in /usr/local/lib/python3.7/dist-packages (from transformers) (21.0)\n",
            "Collecting huggingface-hub==0.0.12\n",
            "  Downloading https://files.pythonhosted.org/packages/2f/ee/97e253668fda9b17e968b3f97b2f8e53aa0127e8807d24a547687423fe0b/huggingface_hub-0.0.12-py3-none-any.whl\n",
            "Requirement already satisfied: regex!=2019.12.17 in /usr/local/lib/python3.7/dist-packages (from transformers) (2019.12.20)\n",
            "Requirement already satisfied: idna<3,>=2.5 in /usr/local/lib/python3.7/dist-packages (from requests->transformers) (2.10)\n",
            "Requirement already satisfied: chardet<4,>=3.0.2 in /usr/local/lib/python3.7/dist-packages (from requests->transformers) (3.0.4)\n",
            "Requirement already satisfied: urllib3!=1.25.0,!=1.25.1,<1.26,>=1.21.1 in /usr/local/lib/python3.7/dist-packages (from requests->transformers) (1.24.3)\n",
            "Requirement already satisfied: certifi>=2017.4.17 in /usr/local/lib/python3.7/dist-packages (from requests->transformers) (2021.5.30)\n",
            "Requirement already satisfied: six in /usr/local/lib/python3.7/dist-packages (from sacremoses->transformers) (1.15.0)\n",
            "Requirement already satisfied: click in /usr/local/lib/python3.7/dist-packages (from sacremoses->transformers) (7.1.2)\n",
            "Requirement already satisfied: joblib in /usr/local/lib/python3.7/dist-packages (from sacremoses->transformers) (1.0.1)\n",
            "Requirement already satisfied: typing-extensions>=3.6.4; python_version < \"3.8\" in /usr/local/lib/python3.7/dist-packages (from importlib-metadata; python_version < \"3.8\"->transformers) (3.7.4.3)\n",
            "Requirement already satisfied: zipp>=0.5 in /usr/local/lib/python3.7/dist-packages (from importlib-metadata; python_version < \"3.8\"->transformers) (3.5.0)\n",
            "Requirement already satisfied: pyparsing>=2.0.2 in /usr/local/lib/python3.7/dist-packages (from packaging->transformers) (2.4.7)\n",
            "Installing collected packages: sacremoses, tokenizers, huggingface-hub, transformers\n",
            "Successfully installed huggingface-hub-0.0.12 sacremoses-0.0.45 tokenizers-0.10.3 transformers-4.8.2\n"
          ],
          "name": "stdout"
        }
      ]
    },
    {
      "cell_type": "code",
      "metadata": {
        "id": "cwaNCVBltZir"
      },
      "source": [
        "from transformers import GPT2LMHeadModel ,GPT2Tokenizer\n",
        "import pandas as pd\n",
        "from nltk.translate.bleu_score import SmoothingFunction, corpus_bleu, sentence_bleu\n",
        "import torch "
      ],
      "execution_count": null,
      "outputs": []
    },
    {
      "cell_type": "code",
      "metadata": {
        "id": "K8NGZSAUFHME"
      },
      "source": [
        "Dataset = pd.read_excel('/content/drive/MyDrive/DATASET/Input/DATASET.xlsx')\n",
        "df = pd.DataFrame(Dataset)"
      ],
      "execution_count": null,
      "outputs": []
    },
    {
      "cell_type": "code",
      "metadata": {
        "colab": {
          "base_uri": "https://localhost:8080/",
          "height": 265,
          "referenced_widgets": [
            "7d7071579601455ebf2d2aec7ee77fe5",
            "917306f20b9b435ead77d02853486df0",
            "4b4ef81b20a64410b512e39a285ec488",
            "703a1e0086194d2996317384345efa16",
            "4898f00ceff242f8a0b5f34a2a3d44b3",
            "30226a114cd946c0b6c349c931878f12",
            "a3fd44f8c88d4cf1983c8fa8b87b81d0",
            "09589b5eb9e74933bd0874d762f53086",
            "44885dfbd90d4285a1faf2d6763d34c2",
            "951f4b6d9f93489087ee5828f36b42cf",
            "ef68ee9fd96046c9996c4fafcdcf9016",
            "c8a401fb8e9c49aa9e9597e3cea52e3f",
            "a597cf9fc3294d9baa9ef751046eb06b",
            "e4dc1eace2ec4ef29318e2efa9c8ee72",
            "8f9ef05595e94f9db1846d7274967231",
            "8caf4a0e5cd34feea11b85af95fdf349",
            "128546f8b2aa42e0a3bd1d0e3e3891ab",
            "ec962424298d44dda8dcb882abd7bbf5",
            "dce123eb095648758f330f6b67be5faa",
            "2b3b1212436243df9a3b0bb2689bc1b3",
            "473f6c7b3d3b45e88adf6699ea5a2063",
            "289cbf98d50d4639b1d8dcbbea2d025f",
            "abba0c08d52e4b00b0e4b893cc4083de",
            "7254c43fa7df48459b9ba7b02d27687e",
            "5dc2006d640240429e058a0e916e1850",
            "c814d508314245279d53d52e16e3a882",
            "986f5c193fe74e9e9fa739a6a282c203",
            "c74233ddac4a4c6a810df2a700d0e088",
            "6896308968c54891806c556eb20163b5",
            "6e4d79c5d62544ee83ad11c2ed842971",
            "75a7264831bc40d9ad26e52b5988f2cb",
            "345be4997be74ed1a63e1427aeeb8a49",
            "b68bc534a1b44e47997211e6b1332fd3",
            "0683ac2a659c4a04986564bffe0510a8",
            "535469fae82d4b1ba0aa7ec97e063957",
            "862f6537977f41a89ae878839040999b",
            "a1d7159424f34e32b3984fcbd4eb0f23",
            "3464b817fb85486d899ef16639c971d2",
            "f3b2f6abd4e8407fb0c8a8d57461ddff",
            "5d7cadaf40b84af986232250b4090bea"
          ]
        },
        "id": "EBk5ICEQtwWD",
        "outputId": "5de4d53b-6381-45ba-b202-17daf4670061"
      },
      "source": [
        "tokenizer = GPT2Tokenizer.from_pretrained('gpt2-medium')\n",
        "model = GPT2LMHeadModel.from_pretrained('gpt2-medium',pad_token_id = tokenizer.eos_token_id)\n"
      ],
      "execution_count": null,
      "outputs": [
        {
          "output_type": "display_data",
          "data": {
            "application/vnd.jupyter.widget-view+json": {
              "model_id": "7d7071579601455ebf2d2aec7ee77fe5",
              "version_minor": 0,
              "version_major": 2
            },
            "text/plain": [
              "HBox(children=(FloatProgress(value=0.0, description='Downloading', max=1042301.0, style=ProgressStyle(descript…"
            ]
          },
          "metadata": {
            "tags": []
          }
        },
        {
          "output_type": "stream",
          "text": [
            "\n"
          ],
          "name": "stdout"
        },
        {
          "output_type": "display_data",
          "data": {
            "application/vnd.jupyter.widget-view+json": {
              "model_id": "44885dfbd90d4285a1faf2d6763d34c2",
              "version_minor": 0,
              "version_major": 2
            },
            "text/plain": [
              "HBox(children=(FloatProgress(value=0.0, description='Downloading', max=456318.0, style=ProgressStyle(descripti…"
            ]
          },
          "metadata": {
            "tags": []
          }
        },
        {
          "output_type": "stream",
          "text": [
            "\n"
          ],
          "name": "stdout"
        },
        {
          "output_type": "display_data",
          "data": {
            "application/vnd.jupyter.widget-view+json": {
              "model_id": "128546f8b2aa42e0a3bd1d0e3e3891ab",
              "version_minor": 0,
              "version_major": 2
            },
            "text/plain": [
              "HBox(children=(FloatProgress(value=0.0, description='Downloading', max=1355256.0, style=ProgressStyle(descript…"
            ]
          },
          "metadata": {
            "tags": []
          }
        },
        {
          "output_type": "stream",
          "text": [
            "\n"
          ],
          "name": "stdout"
        },
        {
          "output_type": "display_data",
          "data": {
            "application/vnd.jupyter.widget-view+json": {
              "model_id": "5dc2006d640240429e058a0e916e1850",
              "version_minor": 0,
              "version_major": 2
            },
            "text/plain": [
              "HBox(children=(FloatProgress(value=0.0, description='Downloading', max=718.0, style=ProgressStyle(description_…"
            ]
          },
          "metadata": {
            "tags": []
          }
        },
        {
          "output_type": "stream",
          "text": [
            "\n"
          ],
          "name": "stdout"
        },
        {
          "output_type": "display_data",
          "data": {
            "application/vnd.jupyter.widget-view+json": {
              "model_id": "b68bc534a1b44e47997211e6b1332fd3",
              "version_minor": 0,
              "version_major": 2
            },
            "text/plain": [
              "HBox(children=(FloatProgress(value=0.0, description='Downloading', max=1520013706.0, style=ProgressStyle(descr…"
            ]
          },
          "metadata": {
            "tags": []
          }
        },
        {
          "output_type": "stream",
          "text": [
            "\n"
          ],
          "name": "stdout"
        }
      ]
    },
    {
      "cell_type": "code",
      "metadata": {
        "id": "OdNH3ssnlSGr"
      },
      "source": [
        "device = torch.device('cuda')\n",
        "model = model.to(device)"
      ],
      "execution_count": null,
      "outputs": []
    },
    {
      "cell_type": "code",
      "metadata": {
        "colab": {
          "base_uri": "https://localhost:8080/",
          "height": 36
        },
        "id": "e94dhgfOIDzW",
        "outputId": "85975c8d-2afc-46db-8204-aef82d320139"
      },
      "source": [
        "Dataset['Scientific Literature'][4][:120]"
      ],
      "execution_count": null,
      "outputs": [
        {
          "output_type": "execute_result",
          "data": {
            "application/vnd.google.colaboratory.intrinsic+json": {
              "type": "string"
            },
            "text/plain": [
              "'(Simplicial complex). Let V be a set. A k-simplex is a unordered set {v 0 , . . . , v k } with v i ∈ V and v i 6= v j . '"
            ]
          },
          "metadata": {
            "tags": []
          },
          "execution_count": 6
        }
      ]
    },
    {
      "cell_type": "code",
      "metadata": {
        "id": "SlEC-VIJw_G2"
      },
      "source": [
        "output_Scientific_Literature =[]\n",
        "for i in range(len(df['Entertainment'])):\n",
        "  input_id = tokenizer.encode(df['Scientific Literature'][i][:120],return_tensors='pt')\n",
        "  output = model.generate(input_id.to(device),max_length=1000,do_sample=True,top_k=50,top_p=0.94)\n",
        "  output_Scientific_Literature.append(tokenizer.decode(output[0],skip_special_tokens=True))"
      ],
      "execution_count": null,
      "outputs": []
    },
    {
      "cell_type": "code",
      "metadata": {
        "colab": {
          "base_uri": "https://localhost:8080/"
        },
        "id": "XknWOP4ChSAb",
        "outputId": "88095104-da06-40e6-dbef-900f39d36183"
      },
      "source": [
        "print(output_Scientific_Literature[2])"
      ],
      "execution_count": null,
      "outputs": [
        {
          "output_type": "stream",
          "text": [
            "Neuro-degenerative disease is a common progressive nervous system disorder that leads\n",
            "to serious clinical consequences.  Nervous system disorders are often associated with neurodegenerative disease that affects both peripheral neuropathy and central nervous system disorders.  Most nervous system disorders occur in adults, but in rare cases it can occur in infants as well.  Mild to moderate neuropathy usually does not cause death; severe, fatal neurologic disease, however, can occur in at least 4% of cases.\n",
            "The most common cause of neuropathy in humans, according to clinical experience, is inflammation of the joint capsule.  Inflammation of the joint capsule, including joint capsules and tendons, is triggered by chronic inflammation, either from environmental or endogenous factors, such as infections and infection-related viruses such as hepatitis.  Tendon and capsule inflammation has been shown to be a feature of neuropathic pain (pain experienced by nerves that are severed from muscles or other extremities).  The disease itself may also have some cellular causes, including abnormal immune activity and inflammation, as well as autoimmune disorders.  Inflammation and neuropathy may also coexist or be correlated with one another or a combination of the two.  The clinical course of neuropathic pain in humans and dogs often differs in ways that might be attributable to different underlying conditions or underlying triggers.  If inflammation persists and neuropathy progresses over a long period of time, the patient may develop a \"pathological\" joint or tendon condition, including the chronic progressive loss of function of the capsule.  Although most patients with neuropathy in animals are not symptomatic of a systemic disease, an animal model of neuropathic pain in humans has been developed to determine whether neuropathy is induced by injury, toxin, or some other pathogen.\n",
            "Carcinogenesis\n",
            "In mice and rats, asymptomatic neuropathy causes malignant tumors that grow slowly and often in the joints, and then develop into cancer.  Dogs and cats also develop neuropathic pain due to cancer, but cancer is more often involved in tumors.  An individual tumor in mice can develop into multiple tumors that grow in a few weeks or months and, at that point, tumors that are not cancerous develop.  One of the ways mice can have neuropathic pain is by having tumors growing in the body (primarily the bone marrow).  In humans, when one tumor in the blood-brain barrier grows large enough, it usually spreads from the brain to other parts of the body where it kills a patient and causes progressive degenerative changes of the brain.  It is not clear whether other tissue damage causes neuropathic pain or whether certain types of cancer cause the degeneration and death of tissue, or both.  However, there is generally strong evidence that the neuropathic pain occurs due to cancer, especially carcinomas.  Carcinomas are generally thought to have much greater damage to cells, but are generally not found in the same tissue as a tumor.  The same is true of the neuropathic pain in dogs, where many tumors develop in the bone marrow and cause the disease, and the animals also do not grow tumors in the skin.\n",
            "What is causing neuropathic pain?\n",
            "Possible factors that may be influencing the cause of neuropathic pain include environmental factors, such as chronic inflammation.  For example, the inflammatory response to inflammation can be induced by many things including physical trauma; environmental substances such as toxic chemicals; and toxins, such as pesticides, pesticides-derived agents, and antibiotics.  Exposure to toxic chemicals that have been shown to cause cancer in animals and to induce cancer in humans are all believed to trigger neuropathic pain.  One reason animal studies are so useful is that they allow for the evaluation of animal models of the effects of environmental toxins on the immune system and on the normal function of the body.  One such example is a study published in 1991, demonstrating that exposure to phenoxyethanol (PCNE) by rats to produce an inflammatory response triggered neuropathic pain in the spine.  The pain was observed in rats as early as the week after exposure to the PCNE and persisted for up to a week.  Phenoxyethanol also caused an inflammatory response in humans and dogs and, in many animals, caused brain tumors.\n",
            "In some situations, environmental toxicity may cause neuropathic pain, but that response usually doesn't occur in all cases.  In the most commonly affected animals, exposure to a substance that causes nerve damage also causes neuropathic pain.  This means that environmental toxicity isn't responsible for neuropathic pain in animals, because environmental toxin exposure causes nerve damage and the pain does not arise.  What is causing neuropathic pain in humans may also not be causing the disease in all cases, but that isn't a\n"
          ],
          "name": "stdout"
        }
      ]
    },
    {
      "cell_type": "code",
      "metadata": {
        "id": "zdllp4JoXIpc"
      },
      "source": [
        "output_Finance = []\n",
        "for i in range(len(df['Finance'])):\n",
        "  input_id = tokenizer.encode(df['Finance'][i][:120],return_tensors='pt')\n",
        "  output = model.generate(input_id.to(device),max_length=1000,do_sample=True,top_k=50,top_p=0.94)\n",
        "  output_Finance.append(tokenizer.decode(output[0],skip_special_tokens=True))"
      ],
      "execution_count": null,
      "outputs": []
    },
    {
      "cell_type": "code",
      "metadata": {
        "colab": {
          "base_uri": "https://localhost:8080/"
        },
        "id": "nQ8tUTW7nsOY",
        "outputId": "9bda56b8-f4d3-4706-d1b7-c6a3a4550e99"
      },
      "source": [
        "print(output_Finance[2])"
      ],
      "execution_count": null,
      "outputs": [
        {
          "output_type": "stream",
          "text": [
            "The company pays dividends to its shareholders. Dividends are paid to distribute the profits made by the company during ________, a period in which there is a cashflow advantage in each year and the dividends are paid into each investor's account, typically at the beginning of each fiscal year. For example, during the second half of 2013, the Company had net income of $2.3 million and had paid $17.5 million in dividends. At December 31, 2013 and 2012, $1.4 and $0.8 million of the total net income was in the form of dividend payments and $0.8 and $9 million was in the form of earnings from continuing operations and dividend reinvestment.\n",
            "\n",
            "During 2012, $2.4 million of the total net income was paid to the shareholders and in 2010, $1.9 million of the net income was paid to the shareholders. The Company pays its shareholders interest on the outstanding interest-bearing securities held in the common stock on a schedule that allows the Company to earn interest on these securities in the future for the periods beginning upon the sale or exchange of these securities or on terms that permit the Company to make payments on these securities before a redemption date. Interest on the outstanding interests in the common stock that may be redeemed is paid to the trustee and interest payable on any such redeemed shares is paid to the purchaser. The redemption dates are fixed. These interest-bearing securities are called \"securities held through sale.\" The Company is required to pay interest and dividends, and its gross proceeds from its operations are treated as a tax-exempt interest for U.S. federal income tax purposes. At December 31, 2013, all holders of common stock held through sale received an aggregate of $5.9 million (or about 28% of the outstanding common stock). In addition to interest and dividends, certain capital contributions are included in gross proceeds from operations. Capital contributions are generally recognized as a non-refundable expense over the length of a business relationship with the Company. The Company recognizes capital contributions in an adjusted basis in the period in which the capital contributions occur and when a change in market value of the capital contributions is observable. If the Company is the beneficiary of a qualified retirement plan, these contributions are recognized on its behalf. Any net amount of capital contribution realized within a year will be capitalized for U.S. federal income tax purposes. The Company is subject to the Alternative Minimum Tax and, when necessary, to additional additional income tax liabilities for income tax purposes. See Note 11 of Notes to Consolidated Financial Statements included in this Annual Report on Form 10-K for additional information on the Alternative Minimum Tax.\n",
            "\n",
            "The following table shows the amount of unrecognized tax benefits and credits for 2012 that were recognized within the three months ended December 31, 2012, or at any time in future fiscal years, and the amount of tax benefits accrued as of December 31 of such fiscal year:\n",
            "\n",
            "2012: Deferred tax benefits $ 0.8\n",
            "\n",
            "Accrued accrued interest and penalties and other income taxes $ 0.0\n",
            "\n",
            "Unrecognized tax benefits $ 0.4\n",
            "\n",
            "Tax benefits available to current and former employees $ 0.0\n",
            "\n",
            "Stock-based compensation expense $ (1.4 )\n",
            "\n",
            "Other (income) expense $ 0.7\n",
            "\n",
            "The following table provides a reconciliation of tax benefits for 2012 to the prior year or year to which the tax benefits relate. The difference between the amounts that are included in interest and dividends and other amounts is a recognition expense that is incurred before the recognition of tax benefits. The interest and dividends are available to current and former employees.\n",
            "\n",
            "2012: Deferred tax benefits $ 0.8\n",
            "\n",
            "Accrued accrued interest and penalties and other income taxes $ 0.0\n",
            "\n",
            "Unrecognized tax benefits $ 0.4\n",
            "\n",
            "Tax benefits available to current and former employees $ 0.0\n",
            "\n",
            "Stock-based compensation expense $ (2.0 )\n",
            "\n",
            "Other (income) expense $ (0.7 )\n",
            "\n",
            "Total: Deferred tax benefits $ 2.0\n",
            "\n",
            "Accrued accrued interest and penalties and other income taxes $ 0.0\n",
            "\n",
            "Unrecognized tax benefits $ 2.1\n",
            "\n",
            "Tax benefits available to current and former employees $ 0.0\n",
            "\n",
            "Stock-based compensation expense $ (0.0 )\n",
            "\n",
            "Other (income) expense $ (0.2 )\n",
            "\n",
            "NOTE 8. CONTROLS AND PROCEDURES — FINANCIAL REPORTING AND SUPPLEMENTAL DATA\n",
            "\n",
            "For the five years ended December 31, 2012 and 2011, the Company has conducted its business as follows:\n",
            "\n",
            "\n",
            "As of December 31, December 31, 2012 2011 (in millions, except per share amounts) (unaudited) Consolidated Statements of Operations Data: Sales and marketing $ 1,982,826 $ 924,503 $ 897,917 Service 3,\n"
          ],
          "name": "stdout"
        }
      ]
    },
    {
      "cell_type": "code",
      "metadata": {
        "id": "2LnDYvm3XTYr"
      },
      "source": [
        "output_Entertainment =[]\n",
        "for i in range(len(df['Entertainment'])):\n",
        "   input_id = tokenizer.encode(df['Entertainment'][i][:120],return_tensors='pt')\n",
        "   output = model.generate(input_id.to(device),max_length=1000,do_sample=True,top_k=50,top_p=0.94)\n",
        "   output_Entertainment.append(tokenizer.decode(output[0],skip_special_tokens=True))"
      ],
      "execution_count": null,
      "outputs": []
    },
    {
      "cell_type": "code",
      "metadata": {
        "colab": {
          "base_uri": "https://localhost:8080/"
        },
        "id": "c-ejcw1PoCA6",
        "outputId": "cc17cf5e-b62d-46db-b27d-f1919f4aa7e9"
      },
      "source": [
        "print(output_Entertainment[3])"
      ],
      "execution_count": null,
      "outputs": [
        {
          "output_type": "stream",
          "text": [
            "Christopher Comstock (born May 19, 1992), known professionally as Marshmello, is an American electronic music producer a member of Swedish House Mafia, the second iteration of House and Swedish House Mafia's first label. Marshmello has released more than 400 singles across four genres, including rap, electronic music, and house. He also produced for artists like Lil Wayne, Eminem, and Young Thug, among others, while serving as an executive producer on House and later founding his own production company, Nervous Systems. Comstock is also known for his production on the award-winning hip hop album \"The Good Life\" by Kool & The Gang and the single \"Ride With Me\". Comstock made his solo debut in August 2012 with the single \"Fell Down,\" which received both critical acclaim and industry acceptance. In 2013, Comstock released his first album \"The Road\" on Nervous Systems and his second album, \"Ride With Me,\" the lead single from 2010's \"Nervous Systems.\" In 2014, Comstock began a collaboration with the pop group Lady Gaga called \"Gaga On Tour\" in which he performed alongside the pop star.\n",
            "\n",
            "Hearings\n",
            "\n",
            "2014 (January 27)\n",
            "\n",
            "Hearing scheduled for January 23, 2014 at 8:30 PM in Chicago, Illinois.\n",
            "\n",
            "2017 (April 24)\n",
            "\n",
            "Hearing scheduled for May 27, 2017 at 4:30 PM in Los Angeles, California.\n",
            "\n",
            "Read more\n",
            "\n",
            "Hearings\n"
          ],
          "name": "stdout"
        }
      ]
    },
    {
      "cell_type": "code",
      "metadata": {
        "id": "he3F23lpxqfF"
      },
      "source": [
        "df['Output_Scientific_Literature'] = output_Scientific_Literature\n",
        "df['Output_Finance'] = output_Finance\n",
        "df['Output_Entertainment'] = output_Entertainment"
      ],
      "execution_count": null,
      "outputs": []
    },
    {
      "cell_type": "code",
      "metadata": {
        "colab": {
          "base_uri": "https://localhost:8080/",
          "height": 304
        },
        "id": "f_RLAWQfu2zQ",
        "outputId": "4b51e9ed-9ad7-49b8-9c28-73296ed371ef"
      },
      "source": [
        "df.head(5)"
      ],
      "execution_count": null,
      "outputs": [
        {
          "output_type": "execute_result",
          "data": {
            "text/html": [
              "<div>\n",
              "<style scoped>\n",
              "    .dataframe tbody tr th:only-of-type {\n",
              "        vertical-align: middle;\n",
              "    }\n",
              "\n",
              "    .dataframe tbody tr th {\n",
              "        vertical-align: top;\n",
              "    }\n",
              "\n",
              "    .dataframe thead th {\n",
              "        text-align: right;\n",
              "    }\n",
              "</style>\n",
              "<table border=\"1\" class=\"dataframe\">\n",
              "  <thead>\n",
              "    <tr style=\"text-align: right;\">\n",
              "      <th></th>\n",
              "      <th>Scientific Literature</th>\n",
              "      <th>Finance</th>\n",
              "      <th>Entertainment</th>\n",
              "      <th>Output_Scientific_Literature</th>\n",
              "      <th>Output_Finance</th>\n",
              "      <th>Output_Entertainment</th>\n",
              "    </tr>\n",
              "  </thead>\n",
              "  <tbody>\n",
              "    <tr>\n",
              "      <th>0</th>\n",
              "      <td>In this research, we mainly consider the traje...</td>\n",
              "      <td>Nineteen ninety-eight was a banner year for me...</td>\n",
              "      <td>In the desert outside of Albuquerque, New Mexi...</td>\n",
              "      <td>In this research, we mainly consider the traje...</td>\n",
              "      <td>Nineteen ninety-eight was a banner year for me...</td>\n",
              "      <td>In the desert outside of Albuquerque, New Mexi...</td>\n",
              "    </tr>\n",
              "    <tr>\n",
              "      <th>1</th>\n",
              "      <td>We propose a real-time method for odometry and...</td>\n",
              "      <td>Corporate restructuring is the process of sign...</td>\n",
              "      <td>The Marvel Cinematic Universe (MCU) is an Amer...</td>\n",
              "      <td>We propose a real-time method for odometry and...</td>\n",
              "      <td>Corporate restructuring is the process of sign...</td>\n",
              "      <td>The Marvel Cinematic Universe (MCU) is an Amer...</td>\n",
              "    </tr>\n",
              "    <tr>\n",
              "      <th>2</th>\n",
              "      <td>Neuro-degenerative disease is a common progres...</td>\n",
              "      <td>The company pays dividends to its shareholders...</td>\n",
              "      <td>Interstellar is a 2014 epic science fiction fi...</td>\n",
              "      <td>Neuro-degenerative disease is a common progres...</td>\n",
              "      <td>The company pays dividends to its shareholders...</td>\n",
              "      <td>Interstellar is a 2014 epic science fiction fi...</td>\n",
              "    </tr>\n",
              "    <tr>\n",
              "      <th>3</th>\n",
              "      <td>the language of graph theory, or network sci-e...</td>\n",
              "      <td>Firstly you need to know that, when you buy &amp; ...</td>\n",
              "      <td>Christopher Comstock (born May 19, 1992), know...</td>\n",
              "      <td>the language of graph theory, or network sci-e...</td>\n",
              "      <td>Firstly you need to know that, when you buy &amp; ...</td>\n",
              "      <td>Christopher Comstock (born May 19, 1992), know...</td>\n",
              "    </tr>\n",
              "    <tr>\n",
              "      <th>4</th>\n",
              "      <td>(Simplicial complex). Let V be a set. A k-simp...</td>\n",
              "      <td>As mentioned earlier, one of the key assumptio...</td>\n",
              "      <td>Katheryn Elizabeth Hudson (born October 25, 19...</td>\n",
              "      <td>(Simplicial complex). Let V be a set. A k-simp...</td>\n",
              "      <td>As mentioned earlier, one of the key assumptio...</td>\n",
              "      <td>Katheryn Elizabeth Hudson (born October 25, 19...</td>\n",
              "    </tr>\n",
              "  </tbody>\n",
              "</table>\n",
              "</div>"
            ],
            "text/plain": [
              "                               Scientific Literature  ...                               Output_Entertainment\n",
              "0  In this research, we mainly consider the traje...  ...  In the desert outside of Albuquerque, New Mexi...\n",
              "1  We propose a real-time method for odometry and...  ...  The Marvel Cinematic Universe (MCU) is an Amer...\n",
              "2  Neuro-degenerative disease is a common progres...  ...  Interstellar is a 2014 epic science fiction fi...\n",
              "3  the language of graph theory, or network sci-e...  ...  Christopher Comstock (born May 19, 1992), know...\n",
              "4  (Simplicial complex). Let V be a set. A k-simp...  ...  Katheryn Elizabeth Hudson (born October 25, 19...\n",
              "\n",
              "[5 rows x 6 columns]"
            ]
          },
          "metadata": {
            "tags": []
          },
          "execution_count": 24
        }
      ]
    },
    {
      "cell_type": "markdown",
      "metadata": {
        "id": "Zj415yMqZP2n"
      },
      "source": [
        "### Generating Bleu Score"
      ]
    },
    {
      "cell_type": "code",
      "metadata": {
        "id": "EYNehfSJ2DOU"
      },
      "source": [
        "def bleu(ref,gen):\n",
        "  gen_bleu= gen.split()\n",
        "  ref_bleu= ref.split()\n",
        "  if (len(gen_bleu)<len(ref_bleu)):\n",
        "    ref_bleu= ref_bleu[:len(gen_bleu)]\n",
        "  else:\n",
        "    gen_bleu= gen_bleu[:len(ref_bleu)]\n",
        "\n",
        "  smooth_func= SmoothingFunction()\n",
        "\n",
        "  score_bleu = corpus_bleu(ref_bleu, gen_bleu, smoothing_function=smooth_func.method4)\n",
        "  return score_bleu"
      ],
      "execution_count": null,
      "outputs": []
    },
    {
      "cell_type": "code",
      "metadata": {
        "id": "BMRbbaE2dWLr"
      },
      "source": [
        "bleu_score_Scientific_Literature = []\n",
        "bleu_score_Finance = []\n",
        "bleu_score_Entertainment =[]\n",
        "for i in range(len(df['Scientific Literature'])):\n",
        "  bleu_score_Scientific_Literature.append(bleu(df['Scientific Literature'][i],df['Output_Scientific_Literature'][i]))\n",
        "  bleu_score_Finance.append(bleu(df['Finance'][i],df['Output_Finance'][i]))\n",
        "  bleu_score_Entertainment.append(bleu(df['Entertainment'][i],df['Output_Entertainment'][i]))"
      ],
      "execution_count": null,
      "outputs": []
    },
    {
      "cell_type": "code",
      "metadata": {
        "colab": {
          "base_uri": "https://localhost:8080/"
        },
        "id": "udYdpeqNf1q-",
        "outputId": "5a594937-b2cd-4a68-a890-904a32925d3b"
      },
      "source": [
        "print(bleu_score_Scientific_Literature)\n",
        "print(bleu_score_Finance)\n",
        "print(bleu_score_Entertainment)"
      ],
      "execution_count": null,
      "outputs": [
        {
          "output_type": "stream",
          "text": [
            "[0.19768960186753437, 0.20217243229234083, 0.25397889285390607, 0.27384306481710013, 0.14994004003346276, 0.1814145403356276, 0.25757936806386733]\n",
            "[0.24118217510650375, 0.23073603632879125, 0.13525089398519166, 0.2316448850399293, 0.2348416122457234, 0.2218015382427042, 0.17884526566229111]\n",
            "[0.23714099823097026, 0.24353298011815738, 0.25159103476172373, 0.23976558120568414, 0.23328690049126086, 0.19693079056689786, 0.23703231203968253]\n"
          ],
          "name": "stdout"
        }
      ]
    },
    {
      "cell_type": "code",
      "metadata": {
        "id": "rOUtrVDQ474M"
      },
      "source": [
        "Bleu_Score = pd.DataFrame()\n",
        "Bleu_Score['bleu_score_Scientific_Literature'] = bleu_score_Scientific_Literature\n",
        "Bleu_Score['bleu_score_Finance'] = bleu_score_Finance\n",
        "Bleu_Score['bleu_score_Entertainment'] = bleu_score_Entertainment"
      ],
      "execution_count": null,
      "outputs": []
    },
    {
      "cell_type": "code",
      "metadata": {
        "id": "lrsYHt8k6QL7"
      },
      "source": [
        "Bleu_Score.to_csv('/content/drive/MyDrive/DATASET/Output/Blue_Score_GPT-2.csv')"
      ],
      "execution_count": null,
      "outputs": []
    },
    {
      "cell_type": "code",
      "metadata": {
        "id": "uRFnH3n96jd_"
      },
      "source": [
        ""
      ],
      "execution_count": null,
      "outputs": []
    }
  ]
}